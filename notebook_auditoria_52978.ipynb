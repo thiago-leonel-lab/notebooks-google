{
  "cells": [
    {
      "cell_type": "markdown",
      "metadata": {
        "id": "view-in-github",
        "colab_type": "text"
      },
      "source": [
        "<a href=\"https://colab.research.google.com/github/thiago-leonel-lab/notebooks-google/blob/main/notebook_auditoria_52978.ipynb\" target=\"_parent\"><img src=\"https://colab.research.google.com/assets/colab-badge.svg\" alt=\"Open In Colab\"/></a>"
      ]
    },
    {
      "cell_type": "markdown",
      "id": "131a8d6c",
      "metadata": {
        "id": "131a8d6c"
      },
      "source": [
        "# Trabalho de Auditoria 52978 - Assistida com IA\n",
        "Este notebook realiza auditoria de fichas AVL usando IA generativa via API e bancos Supabase.\n",
        "Cada célula é modular e comentada para melhor organização e colaboração."
      ]
    },
    {
      "cell_type": "code",
      "execution_count": null,
      "id": "b42fbbb9",
      "metadata": {
        "id": "b42fbbb9"
      },
      "outputs": [],
      "source": [
        "# Instalação de pacotes (executar no terminal se necessário)\n",
        "!pip install -r requirements.txt"
      ]
    },
    {
      "cell_type": "code",
      "source": [
        "from google.colab import drive\n",
        "drive.mount('/content/drive')"
      ],
      "metadata": {
        "colab": {
          "base_uri": "https://localhost:8080/"
        },
        "id": "uGw4RCUVrbVg",
        "outputId": "7300723c-7a2f-4134-e561-7132f7e6881d"
      },
      "id": "uGw4RCUVrbVg",
      "execution_count": 2,
      "outputs": [
        {
          "output_type": "stream",
          "name": "stdout",
          "text": [
            "Drive already mounted at /content/drive; to attempt to forcibly remount, call drive.mount(\"/content/drive\", force_remount=True).\n"
          ]
        }
      ]
    },
    {
      "cell_type": "code",
      "execution_count": null,
      "id": "a579a295",
      "metadata": {
        "id": "a579a295"
      },
      "outputs": [],
      "source": [
        "# Carregamento de variáveis de ambiente\n",
        "from config import conn_dicoi, conn_audit"
      ]
    },
    {
      "cell_type": "markdown",
      "id": "9a868934",
      "metadata": {
        "id": "9a868934"
      },
      "source": [
        "## Extração de dados da base DICOI\n",
        "Seleciona os 7 campos relevantes para auditoria."
      ]
    },
    {
      "cell_type": "code",
      "execution_count": null,
      "id": "672d401d",
      "metadata": {
        "id": "672d401d"
      },
      "outputs": [],
      "source": [
        "import pandas as pd\n",
        "query = '''\n",
        "SELECT cd_ficha, cd_cicl, cd_prf_gestor, tx_prf_gestor, pacr_conclusivo, analise, resultado\n",
        "FROM avl_vw_ficha\n",
        "JOIN avl_ficha_teste USING(cd_ficha)\n",
        "LIMIT 400;\n",
        "'''\n",
        "df = pd.read_sql_query(query, conn_dicoi)\n",
        "df.head()"
      ]
    },
    {
      "cell_type": "markdown",
      "id": "b7c251b0",
      "metadata": {
        "id": "b7c251b0"
      },
      "source": [
        "## Divisão em lotes de 10 fichas\n",
        "Evita sobrecarga na API e permite controle de processamento."
      ]
    },
    {
      "cell_type": "code",
      "execution_count": null,
      "id": "ab0a9f42",
      "metadata": {
        "id": "ab0a9f42"
      },
      "outputs": [],
      "source": [
        "def dividir_em_lotes(df, tamanho_lote=10):\n",
        "    return [df[i:i + tamanho_lote] for i in range(0, len(df), tamanho_lote)]\n",
        "\n",
        "lotes = dividir_em_lotes(df)"
      ]
    },
    {
      "cell_type": "markdown",
      "id": "26757075",
      "metadata": {
        "id": "26757075"
      },
      "source": [
        "## Função para formatar fichas em texto plano\n",
        "Prepara os dados para envio à API."
      ]
    },
    {
      "cell_type": "code",
      "execution_count": null,
      "id": "6e56c041",
      "metadata": {
        "id": "6e56c041"
      },
      "outputs": [],
      "source": [
        "def format_fichas_avl(df_lote):\n",
        "    fichas_formatadas = []\n",
        "    for _, row in df_lote.iterrows():\n",
        "        ficha_texto = (\n",
        "            f\"Ficha AVL #{row['cd_ficha']}\\n\"\n",
        "            f\"cd_ficha: {row['cd_ficha']}\\n\"\n",
        "            f\"cd_cicl: {row['cd_cicl']}\\n\"\n",
        "            f\"cd_prf_gestor: {row['cd_prf_gestor']}\\n\"\n",
        "            f\"tx_prf_gestor: {row['tx_prf_gestor']}\\n\"\n",
        "            f\"analise: {row['analise']}\\n\"\n",
        "            f\"resultado: {row['resultado']}\\n\"\n",
        "            f\"pacr_conclusivo: {row['pacr_conclusivo']}\"\n",
        "        )\n",
        "        fichas_formatadas.append(ficha_texto)\n",
        "    return fichas_formatadas"
      ]
    }
  ],
  "metadata": {
    "colab": {
      "provenance": [],
      "include_colab_link": true
    },
    "language_info": {
      "name": "python"
    },
    "kernelspec": {
      "name": "python3",
      "display_name": "Python 3"
    }
  },
  "nbformat": 4,
  "nbformat_minor": 5
}