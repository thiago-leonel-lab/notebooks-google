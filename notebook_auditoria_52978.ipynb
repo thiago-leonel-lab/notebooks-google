{
  "cells": [
    {
      "cell_type": "markdown",
      "metadata": {
        "id": "view-in-github",
        "colab_type": "text"
      },
      "source": [
        "<a href=\"https://colab.research.google.com/github/thiago-leonel-lab/notebooks-google/blob/main/notebook_auditoria_52978.ipynb\" target=\"_parent\"><img src=\"https://colab.research.google.com/assets/colab-badge.svg\" alt=\"Open In Colab\"/></a>"
      ]
    },
    {
      "cell_type": "markdown",
      "id": "131a8d6c",
      "metadata": {
        "id": "131a8d6c"
      },
      "source": [
        "# Trabalho 52978 - Auditoria Assistida por IA\n",
        "Este notebook realiza auditoria de fichas AVL usando IA generativa (acessada via API). Os dados de origem são da DICOI (unidade auditada), e os resultados serão salvos no repositório da AUDIT.\n",
        "Organização modular para melhor manutenibiludade e facilitar a colaboração.\n",
        "\n",
        "Nesse exemplo usamos:\n",
        "Python - Google Colab;\n",
        "Banco de Dados em Nuvem - Google Cloud SQL (instância Postgre);\n",
        "Agente Semântico - API Gemini.\n",
        "\n",
        "O projeto no BB deverá ser adaptado para o uso das ferramentas/tecnologias corporativas."
      ]
    },
    {
      "cell_type": "code",
      "execution_count": null,
      "id": "b42fbbb9",
      "metadata": {
        "id": "b42fbbb9"
      },
      "outputs": [],
      "source": [
        "# Bibliotecas (conferir e instalar conforme necessário)\n",
        "!pip install psycopg2\n",
        "!pip install pandas\n",
        "!pip install requests\n",
        "!pip install openai\n",
        "!pip install python-dotenv"
      ]
    },
    {
      "cell_type": "code",
      "source": [
        "# Utilizar credenciais do usuário google autenticado\n",
        "from google.colab import auth\n",
        "auth.authenticate_user()"
      ],
      "metadata": {
        "id": "uGw4RCUVrbVg"
      },
      "id": "uGw4RCUVrbVg",
      "execution_count": 9,
      "outputs": []
    },
    {
      "cell_type": "code",
      "source": [
        "# Conectar Google Cloud\n",
        "project_id = \"colab-audit-agent\" #@param {type:\"string\"}\n",
        "\n",
        "# Quick input validations.\n",
        "assert project_id, \"⚠️ Please provide a Google Cloud project ID\"\n",
        "\n",
        "# Configure gcloud.\n",
        "!gcloud config set project {project_id}"
      ],
      "metadata": {
        "colab": {
          "base_uri": "https://localhost:8080/"
        },
        "id": "NuzA8fFju9vE",
        "outputId": "0efeddd1-adc7-4941-c5b5-574efc4d88eb"
      },
      "id": "NuzA8fFju9vE",
      "execution_count": 6,
      "outputs": [
        {
          "output_type": "stream",
          "name": "stdout",
          "text": [
            "Updated property [core/project].\n"
          ]
        }
      ]
    },
    {
      "cell_type": "code",
      "source": [
        "# Garante/Confirma acesso ao papel \"Cloud SQL Client\" para o usuário autenticado\n",
        "current_user = !gcloud auth list --filter=status:ACTIVE --format=\"value(account)\"\n",
        "\n",
        "!gcloud projects add-iam-policy-binding {project_id} \\\n",
        "  --member=user:{current_user[0]} \\\n",
        "  --role=\"roles/cloudsql.client\""
      ],
      "metadata": {
        "colab": {
          "base_uri": "https://localhost:8080/"
        },
        "id": "VO6qMJbSvRsq",
        "outputId": "253c90ae-24a6-40dd-9c3c-cc4b0fecdfb9"
      },
      "id": "VO6qMJbSvRsq",
      "execution_count": 7,
      "outputs": [
        {
          "output_type": "stream",
          "name": "stdout",
          "text": [
            "Updated IAM policy for project [colab-audit-agent].\n",
            "bindings:\n",
            "- members:\n",
            "  - user:educa.thiago.leonel@gmail.com\n",
            "  role: roles/cloudsql.client\n",
            "- members:\n",
            "  - user:educa.thiago.leonel@gmail.com\n",
            "  role: roles/cloudsql.instanceUser\n",
            "- members:\n",
            "  - serviceAccount:service-95842506208@compute-system.iam.gserviceaccount.com\n",
            "  role: roles/compute.serviceAgent\n",
            "- members:\n",
            "  - serviceAccount:95842506208-compute@developer.gserviceaccount.com\n",
            "  - serviceAccount:95842506208@cloudservices.gserviceaccount.com\n",
            "  role: roles/editor\n",
            "- members:\n",
            "  - serviceAccount:service-95842506208@gcp-sa-notebooks.iam.gserviceaccount.com\n",
            "  role: roles/notebooks.serviceAgent\n",
            "- members:\n",
            "  - user:educa.thiago.leonel@gmail.com\n",
            "  role: roles/owner\n",
            "etag: BwY_RQ_q_oA=\n",
            "version: 1\n"
          ]
        }
      ]
    },
    {
      "cell_type": "code",
      "source": [
        "# Ativar a API \"Cloud SQL Admin\"\n",
        "!gcloud services enable sqladmin.googleapis.com"
      ],
      "metadata": {
        "id": "r19XSyW6xB9Z"
      },
      "id": "r19XSyW6xB9Z",
      "execution_count": 8,
      "outputs": []
    },
    {
      "cell_type": "markdown",
      "source": [
        "###💽 **Create a Postgres Instance**\n",
        "Running the below cell will verify the existence of a Cloud SQL instance or create a new one if one does not exist.\n",
        "\n",
        "> ⏳ - Creating a Cloud SQL instance may take a few minutes."
      ],
      "metadata": {
        "id": "eahEpnmnzQBX"
      },
      "id": "eahEpnmnzQBX"
    },
    {
      "cell_type": "code",
      "source": [
        "#@markdown Please fill in the both the Google Cloud region and name of your Cloud SQL instance. Once filled in, run the cell.\n",
        "\n",
        "# Please fill in these values.\n",
        "region = \"southamerica-east1\" #@param {type:\"string\"}\n",
        "instance_name = \"colab-audit\" #@param {type:\"string\"}\n",
        "\n",
        "# Quick input validations.\n",
        "assert region, \"⚠️ Please provide a Google Cloud region\"\n",
        "assert instance_name, \"⚠️ Please provide the name of your instance\"\n",
        "\n",
        "# check if Cloud SQL instance exists in the provided region\n",
        "database_version = !gcloud sql instances describe {instance_name} --format=\"value(databaseVersion)\"\n",
        "if database_version[0].startswith(\"POSTGRES\"):\n",
        "  print(\"Found existing Postgres Cloud SQL Instance!\")\n",
        "else:\n",
        "  print(\"Creating new Cloud SQL instance...\")\n",
        "  password = input(\"Please provide a password to be used for 'postgres' database user: \")\n",
        "  !gcloud sql instances create {instance_name} --database-version=POSTGRES_14 \\\n",
        "    --region={region} --cpu=1 --memory=4GB --root-password={password} \\\n",
        "    --database-flags=cloudsql.iam_authentication=On"
      ],
      "metadata": {
        "id": "wmWLYBqUzCaH"
      },
      "id": "wmWLYBqUzCaH",
      "execution_count": null,
      "outputs": []
    },
    {
      "cell_type": "code",
      "source": [
        "# Criar um banco de dados na Instância PostgreSQL conectada\n",
        "!gcloud sql databases create dicoi --instance=colab-audit"
      ],
      "metadata": {
        "id": "ME6__gW5ykt_"
      },
      "id": "ME6__gW5ykt_",
      "execution_count": 10,
      "outputs": []
    },
    {
      "cell_type": "code",
      "execution_count": 20,
      "id": "a579a295",
      "metadata": {
        "id": "a579a295"
      },
      "outputs": [],
      "source": [
        "# Carregamento de variáveis de ambiente\n",
        "from google.colab import userdata\n",
        "import os\n",
        "import psycopg2\n",
        "\n",
        "# Conexões com Bancos de Dados\n",
        "conn_dicoi = psycopg2.connect(userdata.get(\"BASE_DICOI\"))\n",
        "conn_audit = psycopg2.connect(userdata.get(\"BASE_AUDIT\"))\n",
        "\n",
        "# Chave da API do Agente de Auditoria\n",
        "#AGENTE_API_KEY = userdata.get(\"OPENAI_API_KEY\")"
      ]
    },
    {
      "cell_type": "code",
      "metadata": {
        "colab": {
          "base_uri": "https://localhost:8080/"
        },
        "id": "2ce6202c",
        "outputId": "51939958-5927-46f9-b5bc-a9d16a6e4e4c"
      },
      "source": [
        "# Testando conexões com os Bancos de Dados\n",
        "try:\n",
        "    cursor_dicoi = conn_dicoi.cursor()\n",
        "    cursor_dicoi.execute(\"SELECT 1\")\n",
        "    print(\"Conexão com BASE_DICOI bem-sucedida!\")\n",
        "    cursor_dicoi.close()\n",
        "except Exception as e:\n",
        "    print(f\"Erro ao conectar com BASE_DICOI: {e}\")\n",
        "\n",
        "try:\n",
        "    cursor_audit = conn_audit.cursor()\n",
        "    cursor_audit.execute(\"SELECT 1\")\n",
        "    print(\"Conexão com BASE_AUDIT bem-sucedida!\")\n",
        "    cursor_audit.close()\n",
        "except Exception as e:\n",
        "    print(f\"Erro ao conectar com SUPABASE_AUDIT_URL: {e}\")\n",
        "\n",
        "# Testando a chave da API do OpenAI\n",
        "#try:\n",
        "#    from openai import OpenAI\n",
        "#    client = OpenAI(api_key=OPENAI_API_KEY)\n",
        "#    response = client.chat.completions.create(\n",
        "#        model=\"gpt-3.5-turbo\",\n",
        "#        messages=[\n",
        "#            {\"role\": \"system\", \"content\": \"You are a helpful assistant.\"},\n",
        "#            {\"role\": \"user\", \"content\": \"Hello, world!\"},\n",
        "#        ],\n",
        "#        max_tokens=5\n",
        "#    )\n",
        "#    print(\"Chave OPENAI_API_KEY válida e API acessível!\")\n",
        "#except Exception as e:\n",
        "#    print(f\"Erro ao testar OPENAI_API_KEY: {e}\")"
      ],
      "id": "2ce6202c",
      "execution_count": 21,
      "outputs": [
        {
          "output_type": "stream",
          "name": "stdout",
          "text": [
            "Conexão com BASE_DICOI bem-sucedida!\n",
            "Conexão com BASE_AUDIT bem-sucedida!\n"
          ]
        }
      ]
    },
    {
      "cell_type": "markdown",
      "id": "9a868934",
      "metadata": {
        "id": "9a868934"
      },
      "source": [
        "## Extração de dados da base DICOI\n",
        "Seleciona os 7 campos relevantes para auditoria."
      ]
    },
    {
      "cell_type": "code",
      "source": [
        "# install dependencies\n",
        "import sys\n",
        "!{sys.executable} -m pip install cloud-sql-python-connector[\"pg8000\"] SQLAlchemy==2.0.7"
      ],
      "metadata": {
        "colab": {
          "base_uri": "https://localhost:8080/"
        },
        "id": "jtGtnHAjt_jf",
        "outputId": "71567242-9333-4f0f-b336-99e06c905fc6"
      },
      "id": "jtGtnHAjt_jf",
      "execution_count": 1,
      "outputs": [
        {
          "output_type": "stream",
          "name": "stdout",
          "text": [
            "Collecting SQLAlchemy==2.0.7\n",
            "  Downloading SQLAlchemy-2.0.7-py3-none-any.whl.metadata (9.3 kB)\n",
            "Collecting cloud-sql-python-connector[pg8000]\n",
            "  Downloading cloud_sql_python_connector-1.18.4-py3-none-any.whl.metadata (30 kB)\n",
            "Requirement already satisfied: typing-extensions>=4.2.0 in /usr/local/lib/python3.12/dist-packages (from SQLAlchemy==2.0.7) (4.15.0)\n",
            "Requirement already satisfied: greenlet!=0.4.17 in /usr/local/lib/python3.12/dist-packages (from SQLAlchemy==2.0.7) (3.2.4)\n",
            "Requirement already satisfied: aiofiles in /usr/local/lib/python3.12/dist-packages (from cloud-sql-python-connector[pg8000]) (24.1.0)\n",
            "Requirement already satisfied: aiohttp in /usr/local/lib/python3.12/dist-packages (from cloud-sql-python-connector[pg8000]) (3.12.15)\n",
            "Requirement already satisfied: cryptography>=42.0.0 in /usr/local/lib/python3.12/dist-packages (from cloud-sql-python-connector[pg8000]) (43.0.3)\n",
            "Collecting dnspython>=2.0.0 (from cloud-sql-python-connector[pg8000])\n",
            "  Downloading dnspython-2.8.0-py3-none-any.whl.metadata (5.7 kB)\n",
            "Requirement already satisfied: Requests in /usr/local/lib/python3.12/dist-packages (from cloud-sql-python-connector[pg8000]) (2.32.4)\n",
            "Requirement already satisfied: google-auth>=2.28.0 in /usr/local/lib/python3.12/dist-packages (from cloud-sql-python-connector[pg8000]) (2.38.0)\n",
            "Collecting pg8000>=1.31.1 (from cloud-sql-python-connector[pg8000])\n",
            "  Downloading pg8000-1.31.5-py3-none-any.whl.metadata (88 kB)\n",
            "\u001b[2K     \u001b[90m━━━━━━━━━━━━━━━━━━━━━━━━━━━━━━━━━━━━━━━━\u001b[0m \u001b[32m88.8/88.8 kB\u001b[0m \u001b[31m3.9 MB/s\u001b[0m eta \u001b[36m0:00:00\u001b[0m\n",
            "\u001b[?25hRequirement already satisfied: cffi>=1.12 in /usr/local/lib/python3.12/dist-packages (from cryptography>=42.0.0->cloud-sql-python-connector[pg8000]) (2.0.0)\n",
            "Requirement already satisfied: cachetools<6.0,>=2.0.0 in /usr/local/lib/python3.12/dist-packages (from google-auth>=2.28.0->cloud-sql-python-connector[pg8000]) (5.5.2)\n",
            "Requirement already satisfied: pyasn1-modules>=0.2.1 in /usr/local/lib/python3.12/dist-packages (from google-auth>=2.28.0->cloud-sql-python-connector[pg8000]) (0.4.2)\n",
            "Requirement already satisfied: rsa<5,>=3.1.4 in /usr/local/lib/python3.12/dist-packages (from google-auth>=2.28.0->cloud-sql-python-connector[pg8000]) (4.9.1)\n",
            "Requirement already satisfied: python-dateutil>=2.8.2 in /usr/local/lib/python3.12/dist-packages (from pg8000>=1.31.1->cloud-sql-python-connector[pg8000]) (2.9.0.post0)\n",
            "Collecting scramp>=1.4.5 (from pg8000>=1.31.1->cloud-sql-python-connector[pg8000])\n",
            "  Downloading scramp-1.4.6-py3-none-any.whl.metadata (19 kB)\n",
            "Requirement already satisfied: aiohappyeyeballs>=2.5.0 in /usr/local/lib/python3.12/dist-packages (from aiohttp->cloud-sql-python-connector[pg8000]) (2.6.1)\n",
            "Requirement already satisfied: aiosignal>=1.4.0 in /usr/local/lib/python3.12/dist-packages (from aiohttp->cloud-sql-python-connector[pg8000]) (1.4.0)\n",
            "Requirement already satisfied: attrs>=17.3.0 in /usr/local/lib/python3.12/dist-packages (from aiohttp->cloud-sql-python-connector[pg8000]) (25.3.0)\n",
            "Requirement already satisfied: frozenlist>=1.1.1 in /usr/local/lib/python3.12/dist-packages (from aiohttp->cloud-sql-python-connector[pg8000]) (1.7.0)\n",
            "Requirement already satisfied: multidict<7.0,>=4.5 in /usr/local/lib/python3.12/dist-packages (from aiohttp->cloud-sql-python-connector[pg8000]) (6.6.4)\n",
            "Requirement already satisfied: propcache>=0.2.0 in /usr/local/lib/python3.12/dist-packages (from aiohttp->cloud-sql-python-connector[pg8000]) (0.3.2)\n",
            "Requirement already satisfied: yarl<2.0,>=1.17.0 in /usr/local/lib/python3.12/dist-packages (from aiohttp->cloud-sql-python-connector[pg8000]) (1.20.1)\n",
            "Requirement already satisfied: charset_normalizer<4,>=2 in /usr/local/lib/python3.12/dist-packages (from Requests->cloud-sql-python-connector[pg8000]) (3.4.3)\n",
            "Requirement already satisfied: idna<4,>=2.5 in /usr/local/lib/python3.12/dist-packages (from Requests->cloud-sql-python-connector[pg8000]) (3.10)\n",
            "Requirement already satisfied: urllib3<3,>=1.21.1 in /usr/local/lib/python3.12/dist-packages (from Requests->cloud-sql-python-connector[pg8000]) (2.5.0)\n",
            "Requirement already satisfied: certifi>=2017.4.17 in /usr/local/lib/python3.12/dist-packages (from Requests->cloud-sql-python-connector[pg8000]) (2025.8.3)\n",
            "Requirement already satisfied: pycparser in /usr/local/lib/python3.12/dist-packages (from cffi>=1.12->cryptography>=42.0.0->cloud-sql-python-connector[pg8000]) (2.23)\n",
            "Requirement already satisfied: pyasn1<0.7.0,>=0.6.1 in /usr/local/lib/python3.12/dist-packages (from pyasn1-modules>=0.2.1->google-auth>=2.28.0->cloud-sql-python-connector[pg8000]) (0.6.1)\n",
            "Requirement already satisfied: six>=1.5 in /usr/local/lib/python3.12/dist-packages (from python-dateutil>=2.8.2->pg8000>=1.31.1->cloud-sql-python-connector[pg8000]) (1.17.0)\n",
            "Collecting asn1crypto>=1.5.1 (from scramp>=1.4.5->pg8000>=1.31.1->cloud-sql-python-connector[pg8000])\n",
            "  Downloading asn1crypto-1.5.1-py2.py3-none-any.whl.metadata (13 kB)\n",
            "Downloading SQLAlchemy-2.0.7-py3-none-any.whl (1.8 MB)\n",
            "\u001b[2K   \u001b[90m━━━━━━━━━━━━━━━━━━━━━━━━━━━━━━━━━━━━━━━━\u001b[0m \u001b[32m1.8/1.8 MB\u001b[0m \u001b[31m31.0 MB/s\u001b[0m eta \u001b[36m0:00:00\u001b[0m\n",
            "\u001b[?25hDownloading dnspython-2.8.0-py3-none-any.whl (331 kB)\n",
            "\u001b[2K   \u001b[90m━━━━━━━━━━━━━━━━━━━━━━━━━━━━━━━━━━━━━━━━\u001b[0m \u001b[32m331.1/331.1 kB\u001b[0m \u001b[31m24.0 MB/s\u001b[0m eta \u001b[36m0:00:00\u001b[0m\n",
            "\u001b[?25hDownloading pg8000-1.31.5-py3-none-any.whl (57 kB)\n",
            "\u001b[2K   \u001b[90m━━━━━━━━━━━━━━━━━━━━━━━━━━━━━━━━━━━━━━━━\u001b[0m \u001b[32m57.8/57.8 kB\u001b[0m \u001b[31m4.4 MB/s\u001b[0m eta \u001b[36m0:00:00\u001b[0m\n",
            "\u001b[?25hDownloading cloud_sql_python_connector-1.18.4-py3-none-any.whl (49 kB)\n",
            "\u001b[2K   \u001b[90m━━━━━━━━━━━━━━━━━━━━━━━━━━━━━━━━━━━━━━━━\u001b[0m \u001b[32m49.3/49.3 kB\u001b[0m \u001b[31m3.0 MB/s\u001b[0m eta \u001b[36m0:00:00\u001b[0m\n",
            "\u001b[?25hDownloading scramp-1.4.6-py3-none-any.whl (12 kB)\n",
            "Downloading asn1crypto-1.5.1-py2.py3-none-any.whl (105 kB)\n",
            "\u001b[2K   \u001b[90m━━━━━━━━━━━━━━━━━━━━━━━━━━━━━━━━━━━━━━━━\u001b[0m \u001b[32m105.0/105.0 kB\u001b[0m \u001b[31m8.6 MB/s\u001b[0m eta \u001b[36m0:00:00\u001b[0m\n",
            "\u001b[?25hInstalling collected packages: asn1crypto, SQLAlchemy, scramp, dnspython, pg8000, cloud-sql-python-connector\n",
            "  Attempting uninstall: SQLAlchemy\n",
            "    Found existing installation: SQLAlchemy 2.0.43\n",
            "    Uninstalling SQLAlchemy-2.0.43:\n",
            "      Successfully uninstalled SQLAlchemy-2.0.43\n",
            "Successfully installed SQLAlchemy-2.0.7 asn1crypto-1.5.1 cloud-sql-python-connector-1.18.4 dnspython-2.8.0 pg8000-1.31.5 scramp-1.4.6\n"
          ]
        }
      ]
    },
    {
      "cell_type": "code",
      "source": [],
      "metadata": {
        "id": "UsVLJi5nuNsQ"
      },
      "id": "UsVLJi5nuNsQ",
      "execution_count": null,
      "outputs": []
    },
    {
      "cell_type": "code",
      "source": [
        "# initialize parameters\n",
        "INSTANCE_CONNECTION_NAME = f\"{project_id}:{region}:{instance_name}\" # i.e demo-project:us-central1:demo-instance\n",
        "print(f\"Your instance connection name is: {INSTANCE_CONNECTION_NAME}\")\n",
        "DB_USER = \"auditor\"\n",
        "DB_PASS = \"GA_riscos_2025\"\n",
        "DB_NAME = \"dicoi\""
      ],
      "metadata": {
        "colab": {
          "base_uri": "https://localhost:8080/",
          "height": 211
        },
        "id": "NRTqlfnNuKC2",
        "outputId": "1e4279ed-5c19-4db9-ca78-18e5fa0aa5ec"
      },
      "id": "NRTqlfnNuKC2",
      "execution_count": 2,
      "outputs": [
        {
          "output_type": "error",
          "ename": "NameError",
          "evalue": "name 'project_id' is not defined",
          "traceback": [
            "\u001b[0;31m---------------------------------------------------------------------------\u001b[0m",
            "\u001b[0;31mNameError\u001b[0m                                 Traceback (most recent call last)",
            "\u001b[0;32m/tmp/ipython-input-2025895420.py\u001b[0m in \u001b[0;36m<cell line: 0>\u001b[0;34m()\u001b[0m\n\u001b[1;32m      1\u001b[0m \u001b[0;31m# initialize parameters\u001b[0m\u001b[0;34m\u001b[0m\u001b[0;34m\u001b[0m\u001b[0m\n\u001b[0;32m----> 2\u001b[0;31m \u001b[0mINSTANCE_CONNECTION_NAME\u001b[0m \u001b[0;34m=\u001b[0m \u001b[0;34mf\"{project_id}:{region}:{instance_name}\"\u001b[0m \u001b[0;31m# i.e demo-project:us-central1:demo-instance\u001b[0m\u001b[0;34m\u001b[0m\u001b[0;34m\u001b[0m\u001b[0m\n\u001b[0m\u001b[1;32m      3\u001b[0m \u001b[0mprint\u001b[0m\u001b[0;34m(\u001b[0m\u001b[0;34mf\"Your instance connection name is: {INSTANCE_CONNECTION_NAME}\"\u001b[0m\u001b[0;34m)\u001b[0m\u001b[0;34m\u001b[0m\u001b[0;34m\u001b[0m\u001b[0m\n\u001b[1;32m      4\u001b[0m \u001b[0mDB_USER\u001b[0m \u001b[0;34m=\u001b[0m \u001b[0;34m\"auditor\"\u001b[0m\u001b[0;34m\u001b[0m\u001b[0;34m\u001b[0m\u001b[0m\n\u001b[1;32m      5\u001b[0m \u001b[0mDB_PASS\u001b[0m \u001b[0;34m=\u001b[0m \u001b[0;34m\"GA_riscos_2025\"\u001b[0m\u001b[0;34m\u001b[0m\u001b[0;34m\u001b[0m\u001b[0m\n",
            "\u001b[0;31mNameError\u001b[0m: name 'project_id' is not defined"
          ]
        }
      ]
    },
    {
      "cell_type": "code",
      "execution_count": 19,
      "id": "672d401d",
      "metadata": {
        "colab": {
          "base_uri": "https://localhost:8080/",
          "height": 984
        },
        "id": "672d401d",
        "outputId": "6bbcdcca-c3f7-4400-b0f7-2788cb66b8c3"
      },
      "outputs": [
        {
          "output_type": "stream",
          "name": "stderr",
          "text": [
            "/tmp/ipython-input-2229547024.py:8: UserWarning: pandas only supports SQLAlchemy connectable (engine/connection) or database string URI or sqlite3 DBAPI2 connection. Other DBAPI2 objects are not tested. Please consider using SQLAlchemy.\n",
            "  df = pd.read_sql_query(query, conn_dicoi)\n"
          ]
        },
        {
          "output_type": "error",
          "ename": "DatabaseError",
          "evalue": "Execution failed on sql: \nSELECT cd_ficha, cd_cicl, cd_prf_gestor, tx_prf_gestor, pacr_conclusivo, analise, resultado\nFROM avl_vw_ficha\nJOIN avl_ficha_teste USING(cd_ficha)\nLIMIT 400;\n\nserver closed the connection unexpectedly\n\tThis probably means the server terminated abnormally\n\tbefore or while processing the request.\nserver closed the connection unexpectedly\n\tThis probably means the server terminated abnormally\n\tbefore or while processing the request.\nserver closed the connection unexpectedly\n\tThis probably means the server terminated abnormally\n\tbefore or while processing the request.\n\nunable to rollback",
          "traceback": [
            "\u001b[0;31m---------------------------------------------------------------------------\u001b[0m",
            "\u001b[0;31mOperationalError\u001b[0m                          Traceback (most recent call last)",
            "\u001b[0;32m/usr/local/lib/python3.12/dist-packages/pandas/io/sql.py\u001b[0m in \u001b[0;36mexecute\u001b[0;34m(self, sql, params)\u001b[0m\n\u001b[1;32m   2673\u001b[0m         \u001b[0;32mtry\u001b[0m\u001b[0;34m:\u001b[0m\u001b[0;34m\u001b[0m\u001b[0;34m\u001b[0m\u001b[0m\n\u001b[0;32m-> 2674\u001b[0;31m             \u001b[0mcur\u001b[0m\u001b[0;34m.\u001b[0m\u001b[0mexecute\u001b[0m\u001b[0;34m(\u001b[0m\u001b[0msql\u001b[0m\u001b[0;34m,\u001b[0m \u001b[0;34m*\u001b[0m\u001b[0margs\u001b[0m\u001b[0;34m)\u001b[0m\u001b[0;34m\u001b[0m\u001b[0;34m\u001b[0m\u001b[0m\n\u001b[0m\u001b[1;32m   2675\u001b[0m             \u001b[0;32mreturn\u001b[0m \u001b[0mcur\u001b[0m\u001b[0;34m\u001b[0m\u001b[0;34m\u001b[0m\u001b[0m\n",
            "\u001b[0;31mOperationalError\u001b[0m: server closed the connection unexpectedly\n\tThis probably means the server terminated abnormally\n\tbefore or while processing the request.\nserver closed the connection unexpectedly\n\tThis probably means the server terminated abnormally\n\tbefore or while processing the request.\nserver closed the connection unexpectedly\n\tThis probably means the server terminated abnormally\n\tbefore or while processing the request.\n",
            "\nDuring handling of the above exception, another exception occurred:\n",
            "\u001b[0;31mInterfaceError\u001b[0m                            Traceback (most recent call last)",
            "\u001b[0;32m/usr/local/lib/python3.12/dist-packages/pandas/io/sql.py\u001b[0m in \u001b[0;36mexecute\u001b[0;34m(self, sql, params)\u001b[0m\n\u001b[1;32m   2677\u001b[0m             \u001b[0;32mtry\u001b[0m\u001b[0;34m:\u001b[0m\u001b[0;34m\u001b[0m\u001b[0;34m\u001b[0m\u001b[0m\n\u001b[0;32m-> 2678\u001b[0;31m                 \u001b[0mself\u001b[0m\u001b[0;34m.\u001b[0m\u001b[0mcon\u001b[0m\u001b[0;34m.\u001b[0m\u001b[0mrollback\u001b[0m\u001b[0;34m(\u001b[0m\u001b[0;34m)\u001b[0m\u001b[0;34m\u001b[0m\u001b[0;34m\u001b[0m\u001b[0m\n\u001b[0m\u001b[1;32m   2679\u001b[0m             \u001b[0;32mexcept\u001b[0m \u001b[0mException\u001b[0m \u001b[0;32mas\u001b[0m \u001b[0minner_exc\u001b[0m\u001b[0;34m:\u001b[0m  \u001b[0;31m# pragma: no cover\u001b[0m\u001b[0;34m\u001b[0m\u001b[0;34m\u001b[0m\u001b[0m\n",
            "\u001b[0;31mInterfaceError\u001b[0m: connection already closed",
            "\nThe above exception was the direct cause of the following exception:\n",
            "\u001b[0;31mDatabaseError\u001b[0m                             Traceback (most recent call last)",
            "\u001b[0;32m/tmp/ipython-input-2229547024.py\u001b[0m in \u001b[0;36m<cell line: 0>\u001b[0;34m()\u001b[0m\n\u001b[1;32m      6\u001b[0m \u001b[0mLIMIT\u001b[0m \u001b[0;36m400\u001b[0m\u001b[0;34m;\u001b[0m\u001b[0;34m\u001b[0m\u001b[0;34m\u001b[0m\u001b[0m\n\u001b[1;32m      7\u001b[0m '''\n\u001b[0;32m----> 8\u001b[0;31m \u001b[0mdf\u001b[0m \u001b[0;34m=\u001b[0m \u001b[0mpd\u001b[0m\u001b[0;34m.\u001b[0m\u001b[0mread_sql_query\u001b[0m\u001b[0;34m(\u001b[0m\u001b[0mquery\u001b[0m\u001b[0;34m,\u001b[0m \u001b[0mconn_dicoi\u001b[0m\u001b[0;34m)\u001b[0m\u001b[0;34m\u001b[0m\u001b[0;34m\u001b[0m\u001b[0m\n\u001b[0m\u001b[1;32m      9\u001b[0m \u001b[0mdf\u001b[0m\u001b[0;34m.\u001b[0m\u001b[0mhead\u001b[0m\u001b[0;34m(\u001b[0m\u001b[0;34m)\u001b[0m\u001b[0;34m\u001b[0m\u001b[0;34m\u001b[0m\u001b[0m\n",
            "\u001b[0;32m/usr/local/lib/python3.12/dist-packages/pandas/io/sql.py\u001b[0m in \u001b[0;36mread_sql_query\u001b[0;34m(sql, con, index_col, coerce_float, params, parse_dates, chunksize, dtype, dtype_backend)\u001b[0m\n\u001b[1;32m    524\u001b[0m \u001b[0;34m\u001b[0m\u001b[0m\n\u001b[1;32m    525\u001b[0m     \u001b[0;32mwith\u001b[0m \u001b[0mpandasSQL_builder\u001b[0m\u001b[0;34m(\u001b[0m\u001b[0mcon\u001b[0m\u001b[0;34m)\u001b[0m \u001b[0;32mas\u001b[0m \u001b[0mpandas_sql\u001b[0m\u001b[0;34m:\u001b[0m\u001b[0;34m\u001b[0m\u001b[0;34m\u001b[0m\u001b[0m\n\u001b[0;32m--> 526\u001b[0;31m         return pandas_sql.read_query(\n\u001b[0m\u001b[1;32m    527\u001b[0m             \u001b[0msql\u001b[0m\u001b[0;34m,\u001b[0m\u001b[0;34m\u001b[0m\u001b[0;34m\u001b[0m\u001b[0m\n\u001b[1;32m    528\u001b[0m             \u001b[0mindex_col\u001b[0m\u001b[0;34m=\u001b[0m\u001b[0mindex_col\u001b[0m\u001b[0;34m,\u001b[0m\u001b[0;34m\u001b[0m\u001b[0;34m\u001b[0m\u001b[0m\n",
            "\u001b[0;32m/usr/local/lib/python3.12/dist-packages/pandas/io/sql.py\u001b[0m in \u001b[0;36mread_query\u001b[0;34m(self, sql, index_col, coerce_float, parse_dates, params, chunksize, dtype, dtype_backend)\u001b[0m\n\u001b[1;32m   2736\u001b[0m         \u001b[0mdtype_backend\u001b[0m\u001b[0;34m:\u001b[0m \u001b[0mDtypeBackend\u001b[0m \u001b[0;34m|\u001b[0m \u001b[0mLiteral\u001b[0m\u001b[0;34m[\u001b[0m\u001b[0;34m\"numpy\"\u001b[0m\u001b[0;34m]\u001b[0m \u001b[0;34m=\u001b[0m \u001b[0;34m\"numpy\"\u001b[0m\u001b[0;34m,\u001b[0m\u001b[0;34m\u001b[0m\u001b[0;34m\u001b[0m\u001b[0m\n\u001b[1;32m   2737\u001b[0m     ) -> DataFrame | Iterator[DataFrame]:\n\u001b[0;32m-> 2738\u001b[0;31m         \u001b[0mcursor\u001b[0m \u001b[0;34m=\u001b[0m \u001b[0mself\u001b[0m\u001b[0;34m.\u001b[0m\u001b[0mexecute\u001b[0m\u001b[0;34m(\u001b[0m\u001b[0msql\u001b[0m\u001b[0;34m,\u001b[0m \u001b[0mparams\u001b[0m\u001b[0;34m)\u001b[0m\u001b[0;34m\u001b[0m\u001b[0;34m\u001b[0m\u001b[0m\n\u001b[0m\u001b[1;32m   2739\u001b[0m         \u001b[0mcolumns\u001b[0m \u001b[0;34m=\u001b[0m \u001b[0;34m[\u001b[0m\u001b[0mcol_desc\u001b[0m\u001b[0;34m[\u001b[0m\u001b[0;36m0\u001b[0m\u001b[0;34m]\u001b[0m \u001b[0;32mfor\u001b[0m \u001b[0mcol_desc\u001b[0m \u001b[0;32min\u001b[0m \u001b[0mcursor\u001b[0m\u001b[0;34m.\u001b[0m\u001b[0mdescription\u001b[0m\u001b[0;34m]\u001b[0m\u001b[0;34m\u001b[0m\u001b[0;34m\u001b[0m\u001b[0m\n\u001b[1;32m   2740\u001b[0m \u001b[0;34m\u001b[0m\u001b[0m\n",
            "\u001b[0;32m/usr/local/lib/python3.12/dist-packages/pandas/io/sql.py\u001b[0m in \u001b[0;36mexecute\u001b[0;34m(self, sql, params)\u001b[0m\n\u001b[1;32m   2681\u001b[0m                     \u001b[0;34mf\"Execution failed on sql: {sql}\\n{exc}\\nunable to rollback\"\u001b[0m\u001b[0;34m\u001b[0m\u001b[0;34m\u001b[0m\u001b[0m\n\u001b[1;32m   2682\u001b[0m                 )\n\u001b[0;32m-> 2683\u001b[0;31m                 \u001b[0;32mraise\u001b[0m \u001b[0mex\u001b[0m \u001b[0;32mfrom\u001b[0m \u001b[0minner_exc\u001b[0m\u001b[0;34m\u001b[0m\u001b[0;34m\u001b[0m\u001b[0m\n\u001b[0m\u001b[1;32m   2684\u001b[0m \u001b[0;34m\u001b[0m\u001b[0m\n\u001b[1;32m   2685\u001b[0m             \u001b[0mex\u001b[0m \u001b[0;34m=\u001b[0m \u001b[0mDatabaseError\u001b[0m\u001b[0;34m(\u001b[0m\u001b[0;34mf\"Execution failed on sql '{sql}': {exc}\"\u001b[0m\u001b[0;34m)\u001b[0m\u001b[0;34m\u001b[0m\u001b[0;34m\u001b[0m\u001b[0m\n",
            "\u001b[0;31mDatabaseError\u001b[0m: Execution failed on sql: \nSELECT cd_ficha, cd_cicl, cd_prf_gestor, tx_prf_gestor, pacr_conclusivo, analise, resultado\nFROM avl_vw_ficha\nJOIN avl_ficha_teste USING(cd_ficha)\nLIMIT 400;\n\nserver closed the connection unexpectedly\n\tThis probably means the server terminated abnormally\n\tbefore or while processing the request.\nserver closed the connection unexpectedly\n\tThis probably means the server terminated abnormally\n\tbefore or while processing the request.\nserver closed the connection unexpectedly\n\tThis probably means the server terminated abnormally\n\tbefore or while processing the request.\n\nunable to rollback"
          ]
        }
      ],
      "source": [
        "import pandas as pd\n",
        "query = '''\n",
        "SELECT cd_ficha, cd_cicl, cd_prf_gestor, tx_prf_gestor, pacr_conclusivo, analise, resultado\n",
        "FROM avl_vw_ficha\n",
        "JOIN avl_ficha_teste USING(cd_ficha)\n",
        "LIMIT 400;\n",
        "'''\n",
        "df = pd.read_sql_query(query, conn_dicoi)\n",
        "df.head()"
      ]
    },
    {
      "cell_type": "markdown",
      "id": "b7c251b0",
      "metadata": {
        "id": "b7c251b0"
      },
      "source": [
        "## Divisão em lotes de 10 fichas\n",
        "Evita sobrecarga na API e permite controle de processamento."
      ]
    },
    {
      "cell_type": "code",
      "execution_count": null,
      "id": "ab0a9f42",
      "metadata": {
        "id": "ab0a9f42"
      },
      "outputs": [],
      "source": [
        "def dividir_em_lotes(df, tamanho_lote=10):\n",
        "    return [df[i:i + tamanho_lote] for i in range(0, len(df), tamanho_lote)]\n",
        "\n",
        "lotes = dividir_em_lotes(df)"
      ]
    },
    {
      "cell_type": "markdown",
      "id": "26757075",
      "metadata": {
        "id": "26757075"
      },
      "source": [
        "\\## Função para formatar fichas em texto plano\n",
        "Prepara os dados para envio à API."
      ]
    },
    {
      "cell_type": "code",
      "execution_count": null,
      "id": "6e56c041",
      "metadata": {
        "id": "6e56c041"
      },
      "outputs": [],
      "source": [
        "def format_fichas_avl(df_lote):\n",
        "    fichas_formatadas = []\n",
        "    for _, row in df_lote.iterrows():\n",
        "        ficha_texto = (\n",
        "            f\"Ficha AVL #{row['cd_ficha']}\\n\"\n",
        "            f\"cd_ficha: {row['cd_ficha']}\\n\"\n",
        "            f\"cd_cicl: {row['cd_cicl']}\\n\"\n",
        "            f\"cd_prf_gestor: {row['cd_prf_gestor']}\\n\"\n",
        "            f\"tx_prf_gestor: {row['tx_prf_gestor']}\\n\"\n",
        "            f\"analise: {row['analise']}\\n\"\n",
        "            f\"resultado: {row['resultado']}\\n\"\n",
        "            f\"pacr_conclusivo: {row['pacr_conclusivo']}\"\n",
        "        )\n",
        "        fichas_formatadas.append(ficha_texto)\n",
        "    return fichas_formatadas"
      ]
    },
    {
      "cell_type": "markdown",
      "metadata": {
        "id": "2d725f4f"
      },
      "source": [
        "# Task\n",
        "Adapt the code to connect to a PostgreSQL database via Google Cloud and replace the OpenAI API with a Google API. Provide instructions on how to configure these services to make the notebook functional."
      ],
      "id": "2d725f4f"
    },
    {
      "cell_type": "markdown",
      "metadata": {
        "id": "d7e7806d"
      },
      "source": [
        "## Configurar a conexão com o postgresql no google cloud\n",
        "\n",
        "### Subtask:\n",
        "Explicar como configurar e obter as credenciais de conexão para o banco de dados PostgreSQL hospedado no Google Cloud.\n"
      ],
      "id": "d7e7806d"
    },
    {
      "cell_type": "markdown",
      "metadata": {
        "id": "08fbc299"
      },
      "source": [
        "**Reasoning**:\n",
        "The subtask is to explain how to configure and obtain credentials for a PostgreSQL database on Google Cloud. This requires providing instructions in a markdown cell.\n",
        "\n"
      ],
      "id": "08fbc299"
    },
    {
      "cell_type": "markdown",
      "metadata": {
        "id": "300d9928"
      },
      "source": [
        "**Reasoning**:\n",
        "The previous command failed because a markdown block was attempted within a `code_block`. The instructions require providing the explanation in a markdown cell. I will create a markdown cell with the instructions.\n",
        "\n"
      ],
      "id": "300d9928"
    },
    {
      "cell_type": "markdown",
      "metadata": {
        "id": "debd3740"
      },
      "source": [
        "## Atualizar a conexão do banco de dados no código\n",
        "\n",
        "### Subtask:\n",
        "Modificar a célula que estabelece a conexão com o banco de dados para usar as credenciais do Google Cloud e a biblioteca ou método apropriado.\n"
      ],
      "id": "debd3740"
    },
    {
      "cell_type": "markdown",
      "metadata": {
        "id": "52e050b6"
      },
      "source": [
        "**Reasoning**:\n",
        "Modify the existing code cell to use the provided Google Cloud PostgreSQL credentials for the `conn_dicoi` connection, keeping the `conn_audit` connection as is.\n",
        "\n"
      ],
      "id": "52e050b6"
    },
    {
      "cell_type": "code",
      "metadata": {
        "colab": {
          "base_uri": "https://localhost:8080/",
          "height": 332
        },
        "id": "6da4641c",
        "outputId": "7bcd9ccb-f7e9-4d8c-bd20-c7a6b08030e8"
      },
      "source": [
        "# Carregamento de variáveis de ambiente\n",
        "from google.colab import userdata\n",
        "import os\n",
        "import psycopg2\n",
        "\n",
        "# Conexões com Bancos de Dados\n",
        "# Assuming you have stored your Google Cloud PostgreSQL connection string in userdata\n",
        "# Example format for public IP connection:\n",
        "# \"dbname=<your_database_name> user=<your_username> password=<your_password> host=<your_public_ip_address> port=5432\"\n",
        "# Example format for Cloud SQL Proxy connection:\n",
        "# \"dbname=<your_database_name> user=<your_username> password=<your_password> host=127.0.0.1 port=5432\" # assuming proxy is running on localhost\n",
        "conn_dicoi = psycopg2.connect(userdata.get(\"GOOGLE_CLOUD_POSTGRES_DICOI\"))\n",
        "conn_audit = psycopg2.connect(userdata.get(\"BASE_AUDIT\"))\n",
        "\n",
        "# Chave da API do Agente de Auditoria\n",
        "#AGENTE_API_KEY = userdata.get(\"OPENAI_API_KEY\")"
      ],
      "id": "6da4641c",
      "execution_count": 24,
      "outputs": [
        {
          "output_type": "error",
          "ename": "SecretNotFoundError",
          "evalue": "Secret GOOGLE_CLOUD_POSTGRES_DICOI does not exist.",
          "traceback": [
            "\u001b[0;31m---------------------------------------------------------------------------\u001b[0m",
            "\u001b[0;31mSecretNotFoundError\u001b[0m                       Traceback (most recent call last)",
            "\u001b[0;32m/tmp/ipython-input-338132319.py\u001b[0m in \u001b[0;36m<cell line: 0>\u001b[0;34m()\u001b[0m\n\u001b[1;32m     10\u001b[0m \u001b[0;31m# Example format for Cloud SQL Proxy connection:\u001b[0m\u001b[0;34m\u001b[0m\u001b[0;34m\u001b[0m\u001b[0m\n\u001b[1;32m     11\u001b[0m \u001b[0;31m# \"dbname=<your_database_name> user=<your_username> password=<your_password> host=127.0.0.1 port=5432\" # assuming proxy is running on localhost\u001b[0m\u001b[0;34m\u001b[0m\u001b[0;34m\u001b[0m\u001b[0m\n\u001b[0;32m---> 12\u001b[0;31m \u001b[0mconn_dicoi\u001b[0m \u001b[0;34m=\u001b[0m \u001b[0mpsycopg2\u001b[0m\u001b[0;34m.\u001b[0m\u001b[0mconnect\u001b[0m\u001b[0;34m(\u001b[0m\u001b[0muserdata\u001b[0m\u001b[0;34m.\u001b[0m\u001b[0mget\u001b[0m\u001b[0;34m(\u001b[0m\u001b[0;34m\"GOOGLE_CLOUD_POSTGRES_DICOI\"\u001b[0m\u001b[0;34m)\u001b[0m\u001b[0;34m)\u001b[0m\u001b[0;34m\u001b[0m\u001b[0;34m\u001b[0m\u001b[0m\n\u001b[0m\u001b[1;32m     13\u001b[0m \u001b[0mconn_audit\u001b[0m \u001b[0;34m=\u001b[0m \u001b[0mpsycopg2\u001b[0m\u001b[0;34m.\u001b[0m\u001b[0mconnect\u001b[0m\u001b[0;34m(\u001b[0m\u001b[0muserdata\u001b[0m\u001b[0;34m.\u001b[0m\u001b[0mget\u001b[0m\u001b[0;34m(\u001b[0m\u001b[0;34m\"BASE_AUDIT\"\u001b[0m\u001b[0;34m)\u001b[0m\u001b[0;34m)\u001b[0m\u001b[0;34m\u001b[0m\u001b[0;34m\u001b[0m\u001b[0m\n\u001b[1;32m     14\u001b[0m \u001b[0;34m\u001b[0m\u001b[0m\n",
            "\u001b[0;32m/usr/local/lib/python3.12/dist-packages/google/colab/userdata.py\u001b[0m in \u001b[0;36mget\u001b[0;34m(key)\u001b[0m\n\u001b[1;32m     66\u001b[0m     \u001b[0;32mraise\u001b[0m \u001b[0mTimeoutException\u001b[0m\u001b[0;34m(\u001b[0m\u001b[0mkey\u001b[0m\u001b[0;34m)\u001b[0m\u001b[0;34m\u001b[0m\u001b[0;34m\u001b[0m\u001b[0m\n\u001b[1;32m     67\u001b[0m   \u001b[0;32mif\u001b[0m \u001b[0;32mnot\u001b[0m \u001b[0mresp\u001b[0m\u001b[0;34m.\u001b[0m\u001b[0mget\u001b[0m\u001b[0;34m(\u001b[0m\u001b[0;34m'exists'\u001b[0m\u001b[0;34m,\u001b[0m \u001b[0;32mFalse\u001b[0m\u001b[0;34m)\u001b[0m\u001b[0;34m:\u001b[0m\u001b[0;34m\u001b[0m\u001b[0;34m\u001b[0m\u001b[0m\n\u001b[0;32m---> 68\u001b[0;31m     \u001b[0;32mraise\u001b[0m \u001b[0mSecretNotFoundError\u001b[0m\u001b[0;34m(\u001b[0m\u001b[0mkey\u001b[0m\u001b[0;34m)\u001b[0m\u001b[0;34m\u001b[0m\u001b[0;34m\u001b[0m\u001b[0m\n\u001b[0m\u001b[1;32m     69\u001b[0m   \u001b[0;32mif\u001b[0m \u001b[0;32mnot\u001b[0m \u001b[0mresp\u001b[0m\u001b[0;34m.\u001b[0m\u001b[0mget\u001b[0m\u001b[0;34m(\u001b[0m\u001b[0;34m'access'\u001b[0m\u001b[0;34m,\u001b[0m \u001b[0;32mFalse\u001b[0m\u001b[0;34m)\u001b[0m\u001b[0;34m:\u001b[0m\u001b[0;34m\u001b[0m\u001b[0;34m\u001b[0m\u001b[0m\n\u001b[1;32m     70\u001b[0m     \u001b[0;32mraise\u001b[0m \u001b[0mNotebookAccessError\u001b[0m\u001b[0;34m(\u001b[0m\u001b[0mkey\u001b[0m\u001b[0;34m)\u001b[0m\u001b[0;34m\u001b[0m\u001b[0;34m\u001b[0m\u001b[0m\n",
            "\u001b[0;31mSecretNotFoundError\u001b[0m: Secret GOOGLE_CLOUD_POSTGRES_DICOI does not exist."
          ]
        }
      ]
    },
    {
      "cell_type": "markdown",
      "metadata": {
        "id": "9f380d25"
      },
      "source": [
        "## Atualizar a conexão do banco de dados no código\n",
        "\n",
        "### Subtask:\n",
        "Modificar a célula que estabelece a conexão com o banco de dados para usar as credenciais do Google Cloud e a biblioteca ou método apropriado.\n"
      ],
      "id": "9f380d25"
    },
    {
      "cell_type": "markdown",
      "metadata": {
        "id": "c49544ca"
      },
      "source": [
        "**Reasoning**:\n",
        "Modify the code cell to use the Google Cloud PostgreSQL connection string from `userdata` and keep the `conn_audit` connection as is. Comment out the `AGENTE_API_KEY` line.\n",
        "\n"
      ],
      "id": "c49544ca"
    }
  ],
  "metadata": {
    "colab": {
      "provenance": [],
      "include_colab_link": true
    },
    "language_info": {
      "name": "python"
    },
    "kernelspec": {
      "name": "python3",
      "display_name": "Python 3"
    }
  },
  "nbformat": 4,
  "nbformat_minor": 5
}